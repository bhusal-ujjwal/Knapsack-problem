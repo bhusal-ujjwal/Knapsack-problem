{
  "nbformat": 4,
  "nbformat_minor": 0,
  "metadata": {
    "colab": {
      "provenance": []
    },
    "kernelspec": {
      "name": "python3",
      "display_name": "Python 3"
    },
    "language_info": {
      "name": "python"
    }
  },
  "cells": [
    {
      "cell_type": "code",
      "source": [
        "# Knapsack problem (KP)\n",
        "\n",
        "# Implement the Knapsack problem (KP) in Python/Mathematica and find the best solution using the brute force method.\n",
        "# The problem description can be found in this course's related lectures or link wiki.\n",
        "# If you submit your first attempt after a deadline, you will receive -2 points. The maximum points achievable for this task is 10 points.\n",
        "# You have two attempts to accomplish this task (the second attempt can be submitted after the deadline without any further penalization).\n",
        "# Problem description:\n",
        "# All items are generated randomly, and each item has the following properties:\n",
        "# The Volume of the item\n",
        "# Cost of the item\n",
        "# The knapsack has some maximal limit of Volume, which can't be violated.\n",
        "# For the output, print all the items (their cost and volume).\n",
        "# And the best-found solution (which items are put together and the maximum cost and volume of the combination).\n",
        "# Also, print the total time needed for the brute force method."
      ],
      "metadata": {
        "id": "tfOiSiwjLZHf"
      },
      "execution_count": null,
      "outputs": []
    },
    {
      "cell_type": "code",
      "execution_count": null,
      "metadata": {
        "colab": {
          "base_uri": "https://localhost:8080/"
        },
        "id": "NAghTx0ahBVC",
        "outputId": "c2c602de-776b-40fb-a3e9-796cecdc0604"
      },
      "outputs": [
        {
          "output_type": "stream",
          "name": "stdout",
          "text": [
            "Items (volume, cost):\n",
            "(4.379042348616965, 40.092168227528475)\n",
            "(6.942926347635131, 61.208402373209644)\n",
            "(2.6574066310975026, 97.21070105603138)\n",
            "(3.8492808040978037, 22.955705922897337)\n",
            "(7.213787743809957, 12.359597140763174)\n",
            "(3.8559641674259404, 30.727807472702008)\n",
            "(8.358985417817616, 38.82066610912409)\n",
            "(6.466566709490191, 11.934274793695717)\n",
            "(6.5370012205566495, 46.77408857156535)\n",
            "(8.358607960099818, 87.26636492611786)\n",
            "\n",
            "Best solution:\n",
            "(4.379042348616965, 40.092168227528475)\n",
            "(6.942926347635131, 61.208402373209644)\n",
            "(2.6574066310975026, 97.21070105603138)\n",
            "(6.5370012205566495, 46.77408857156535)\n",
            "(8.358607960099818, 87.26636492611786)\n",
            "Total cost: 332.5517251544527\n",
            "Total volume: 28.874984508006065\n",
            "\n",
            "Time taken for brute force: 0.001977205276489258 seconds\n"
          ]
        }
      ],
      "source": [
        "import itertools\n",
        "import random\n",
        "import time\n",
        "\n",
        "# Generate random items\n",
        "def generate_items(num_items, min_volume, max_volume, min_cost, max_cost):\n",
        "    items = []\n",
        "    for _ in range(num_items):\n",
        "        volume = random.uniform(min_volume, max_volume)\n",
        "        cost = random.uniform(min_cost, max_cost)\n",
        "        items.append((volume, cost))\n",
        "    return items\n",
        "\n",
        "# Calculate total volume and cost of a combination\n",
        "def calculate_total(combination):\n",
        "    total_volume = sum(item[0] for item in combination)\n",
        "    total_cost = sum(item[1] for item in combination)\n",
        "    return total_volume, total_cost\n",
        "\n",
        "# Brute force knapsack solver\n",
        "def knapsack_bruteforce(items, volume_limit):\n",
        "    best_cost = 0\n",
        "    best_combination = None\n",
        "\n",
        "    for i in range(len(items) + 1):\n",
        "        for combination in itertools.combinations(items, i):\n",
        "            total_volume, total_cost = calculate_total(combination)\n",
        "            if total_volume <= volume_limit and total_cost > best_cost:\n",
        "                best_cost = total_cost\n",
        "                best_combination = combination\n",
        "\n",
        "    return best_combination, best_cost\n",
        "\n",
        "# Set parameters\n",
        "num_items = 10\n",
        "min_volume = 1\n",
        "max_volume = 10\n",
        "min_cost = 10\n",
        "max_cost = 100\n",
        "volume_limit = 30\n",
        "\n",
        "# Generate items\n",
        "items = generate_items(num_items, min_volume, max_volume, min_cost, max_cost)\n",
        "print(\"Items (volume, cost):\")\n",
        "for item in items:\n",
        "    print(item)\n",
        "\n",
        "# Solve the problem using brute force\n",
        "start_time = time.time()\n",
        "best_combination, best_cost = knapsack_bruteforce(items, volume_limit)\n",
        "end_time = time.time()\n",
        "\n",
        "# Print the results\n",
        "print(\"\\nBest solution:\")\n",
        "for item in best_combination:\n",
        "    print(item)\n",
        "print(f\"Total cost: {best_cost}\")\n",
        "print(f\"Total volume: {sum(item[0] for item in best_combination)}\")\n",
        "print(f\"\\nTime taken for brute force: {end_time - start_time} seconds\")\n"
      ]
    },
    {
      "cell_type": "code",
      "source": [],
      "metadata": {
        "id": "hDKa6N9rhKqZ"
      },
      "execution_count": null,
      "outputs": []
    }
  ]
}